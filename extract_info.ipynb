{
 "cells": [
  {
   "cell_type": "code",
   "execution_count": 1,
   "id": "1efaa740",
   "metadata": {},
   "outputs": [
    {
     "data": {
      "text/plain": [
       "'Piyush Sharma - Resume\\n\\nBaddi, Himachal Pradesh | +91-9876543210 | piyush.sharma@email.com\\n\\ngithub.com/piyush-sharma | linkedin.com/in/piyushsharma | portfolio.piyushsharma.dev\\n\\nCareer Objective\\n\\nMotivated  and  detail-oriented  BCA  student  with  a  strong  foundation  in  full-stack  web  development,  data\\n\\nstructures,  and  artificial  intelligence.  Passionate  about  building  scalable  applications  and  solving  real-world\\n\\nproblems  using  technology.  Seeking  a  challenging  role  in  software  development  or  AI/ML  that  allows\\n\\ncontinuous learning and innovation.\\n\\nTechnical Skills\\n\\nLanguages: JavaScript, Python, C++, HTML, CSS, SQL\\n\\nWeb Development: React.js, Node.js, Express.js, REST APIs, MongoDB\\n\\nTools & Frameworks: Git, VS Code, Postman, Bootstrap, Tailwind CSS\\n\\nAI/ML: Scikit-learn, Pandas, NumPy, Matplotlib\\n\\nOther: Resume parsing, classification models, TF-IDF, Random Forest, Flask\\n\\nProjects\\n\\n1. Resume Screening AI System\\n\\n- Built a web app that predicts resume categories using machine learning (Random Forest + TF-IDF).\\n\\n- Stack: Python, Flask, Scikit-learn, HTML/CSS\\n\\n2. Food Delivery Website\\n\\n- Designed and built a responsive food ordering website with modern UI/UX.\\n\\n- Technologies: HTML, CSS, JavaScript\\n\\n3. Snake Game\\n\\n- Classic Snake game built using vanilla JS and HTML Canvas.\\n\\nEducation\\n\\n\\x0cPiyush Sharma - Resume\\n\\nBachelor of Computer Applications (BCA)\\n\\nBaddi University of Emerging Sciences and Technology\\n\\n2023 - 2026 | Expected CGPA: ~8.5+\\n\\nCertifications\\n\\n- React.js Frontend Development - Coursera\\n\\n- Python for Everybody - University of Michigan\\n\\n- Data Science and Machine Learning Bootcamp - Udemy\\n\\nAchievements\\n\\n- Ranked top 3 in college hackathon on AI in 2024\\n\\n- Completed 100+ DSA problems on LeetCode\\n\\n- Created 10+ web projects hosted online\\n\\nLanguages\\n\\nEnglish - Proficient\\n\\nHindi - Native\\n\\n\\x0c'"
      ]
     },
     "execution_count": 1,
     "metadata": {},
     "output_type": "execute_result"
    }
   ],
   "source": [
    "import re \n",
    "from pdfminer.high_level import extract_text\n",
    "def extract_text_from_pdf(pdf_path):\n",
    "    return extract_text(pdf_path)\n",
    "\n",
    "resume_path  = 'Piyush_Sharma_Resume.pdf'\n",
    "resume_text = extract_text_from_pdf(resume_path)\n",
    "resume_text"
   ]
  },
  {
   "cell_type": "markdown",
   "id": "8830aad1",
   "metadata": {},
   "source": [
    "funtction to extract informations\n"
   ]
  },
  {
   "cell_type": "code",
   "execution_count": 2,
   "id": "406a47f7",
   "metadata": {},
   "outputs": [
    {
     "data": {
      "text/plain": [
       "{'phone_numbers': ['9876543210'], 'emails': ['piyush.sharma@email.com']}"
      ]
     },
     "execution_count": 2,
     "metadata": {},
     "output_type": "execute_result"
    }
   ],
   "source": [
    "import re\n",
    "def extract_contact(resume_text):\n",
    "    phone_pattern = r'\\b\\d{10}\\b'\n",
    "    email_pattern = r'[a-zA-Z0-9._%+-]+@[a-zA-Z0-9.-]+\\.[a-zA-Z]{2,}'\n",
    "    \n",
    "    phone_numbers = re.findall(phone_pattern, resume_text)\n",
    "    emails = re.findall(email_pattern, resume_text)\n",
    "    \n",
    "    return {\n",
    "        'phone_numbers': phone_numbers,\n",
    "        'emails': emails\n",
    "    }\n",
    "\n",
    "phone_and_email = extract_contact(resume_text)\n",
    "phone_and_email"
   ]
  },
  {
   "cell_type": "markdown",
   "id": "876ebe91",
   "metadata": {},
   "source": [
    "extracting skills"
   ]
  },
  {
   "cell_type": "code",
   "execution_count": 3,
   "id": "56010183",
   "metadata": {},
   "outputs": [
    {
     "name": "stdout",
     "output_type": "stream",
     "text": [
      "Extracted Skills:\n",
      "- python\n",
      "- javascript\n",
      "- sql\n",
      "- html\n",
      "- css\n",
      "- react.js\n",
      "- node.js\n",
      "- express.js\n",
      "- tailwind css\n",
      "- bootstrap\n",
      "- flask\n",
      "- pandas\n",
      "- numpy\n",
      "- matplotlib\n",
      "- scikit-learn\n",
      "- classification\n",
      "- mongodb\n",
      "- vs code\n",
      "- postman\n",
      "- git\n",
      "- github\n",
      "- english\n",
      "- hindi\n"
     ]
    }
   ],
   "source": [
    "import re\n",
    "def extract_skills(resume_text, skills_list):\n",
    "    skills = []\n",
    "\n",
    "    for skill in skills_list :\n",
    "        pattern = r'\\b' + re.escape(skill) + r'\\b'\n",
    "        match =  re.search(pattern, resume_text, re.IGNORECASE)\n",
    "        if match :\n",
    "            skills.append(skill)\n",
    "    return skills\n",
    "\n",
    "#list of predefined skills\n",
    "\n",
    "skills_list = [\n",
    "    # --- Programming Languages & Frameworks ---\n",
    "    \"python\", \"java\", \"javascript\", \"c++\", \"c#\", \"ruby\", \"go\", \"rust\", \"kotlin\", \"swift\",\n",
    "    \"typescript\", \"php\", \"r\", \"perl\", \"sql\", \"bash\", \"shell scripting\", \"matlab\", \"scala\", \"haskell\",\n",
    "    \"html\", \"css\", \"react.js\", \"vue.js\", \"angular\", \"node.js\", \"express.js\", \"next.js\", \"tailwind css\", \"bootstrap\",\n",
    "    \"sass\", \"jquery\", \"flask\", \"django\", \"rest api\", \"graphql\", \"websockets\", \"ajax\", \"webpack\", \"vite\",\n",
    "\n",
    "    # --- Data Science & Machine Learning ---\n",
    "    \"pandas\", \"numpy\", \"matplotlib\", \"seaborn\", \"scipy\", \"scikit-learn\", \"tensorflow\", \"keras\", \"pytorch\", \"jupyter notebooks\",\n",
    "    \"data wrangling\", \"data cleaning\", \"data visualization\", \"eda\", \"feature engineering\", \"model evaluation\", \"classification\", \"regression\", \"clustering\", \"time series analysis\",\n",
    "    \"nlp\", \"computer vision\", \"supervised learning\", \"unsupervised learning\", \"deep learning\", \"reinforcement learning\", \"mlops\", \"automl\", \"cross-validation\", \"model deployment\",\n",
    "\n",
    "    # --- DevOps & Cloud ---\n",
    "    \"aws\", \"azure\", \"gcp\", \"docker\", \"kubernetes\", \"terraform\", \"jenkins\", \"github actions\", \"ci/cd\", \"linux administration\",\n",
    "    \"ansible\", \"cloudformation\", \"monitoring\", \"prometheus\", \"grafana\", \"nginx\", \"apache\", \"load balancing\", \"ssl\", \"firewall configuration\",\n",
    "\n",
    "    # --- Cybersecurity ---\n",
    "    \"network security\", \"ethical hacking\", \"penetration testing\", \"owasp\", \"burp suite\", \"kali linux\", \"encryption\", \"vpn\", \"siem\", \"incident response\",\n",
    "    \"vulnerability assessment\", \"threat modeling\", \"malware analysis\", \"digital forensics\", \"security compliance\", \"risk assessment\", \"identity management\", \"intrusion detection\", \"zero trust security\", \"firewall rules\",\n",
    "\n",
    "    # --- Database & Big Data ---\n",
    "    \"mysql\", \"postgresql\", \"mongodb\", \"firebase\", \"sqlite\", \"oracle\", \"cassandra\", \"redis\", \"hive\", \"snowflake\",\n",
    "    \"data warehousing\", \"etl\", \"bigquery\", \"apache spark\", \"hadoop\", \"kafka\", \"airflow\", \"elasticsearch\", \"indexing\", \"database normalization\",\n",
    "\n",
    "    # --- UI/UX & Design ---\n",
    "    \"figma\", \"sketch\", \"adobe xd\", \"photoshop\", \"illustrator\", \"canva\", \"lightroom\", \"procreate\", \"wireframing\", \"prototyping\",\n",
    "    \"usability testing\", \"user research\", \"design thinking\", \"interaction design\", \"color theory\", \"typography\", \"layout design\", \"responsive design\", \"accessibility\", \"motion design\",\n",
    "\n",
    "    # --- Game & AR/VR Development ---\n",
    "    \"unity\", \"unreal engine\", \"c# scripting\", \"blueprints\", \"game physics\", \"2d animation\", \"3d modeling\", \"character rigging\", \"game ui design\", \"multiplayer networking\",\n",
    "    \"vr development\", \"ar development\", \"oculus sdk\", \"shader programming\", \"unity physics\", \"sprite animation\", \"level design\", \"game sound design\", \"collision detection\", \"game optimization\",\n",
    "\n",
    "    # --- Digital Marketing & SEO ---\n",
    "    \"seo\", \"sem\", \"google ads\", \"facebook ads\", \"linkedin marketing\", \"instagram marketing\", \"email marketing\", \"affiliate marketing\", \"influencer marketing\", \"content marketing\",\n",
    "    \"google analytics\", \"ahrefs\", \"semrush\", \"hootsuite\", \"mailchimp\", \"copywriting\", \"conversion optimization\", \"crm\", \"brand strategy\", \"a/b testing\",\n",
    "\n",
    "    # --- Business & Finance ---\n",
    "    \"financial modeling\", \"budgeting\", \"forecasting\", \"investment analysis\", \"accounting\", \"bookkeeping\", \"tax planning\", \"auditing\", \"quickbooks\", \"ms excel\",\n",
    "    \"balance sheet analysis\", \"cash flow management\", \"valuation\", \"risk management\", \"erp systems\", \"sap\", \"business analysis\", \"strategic planning\", \"kpi tracking\", \"market research\",\n",
    "\n",
    "    # --- Education & Training ---\n",
    "    \"curriculum design\", \"instructional design\", \"lesson planning\", \"e-learning\", \"classroom management\", \"academic writing\", \"assessment design\", \"educational technology\", \"student engagement\", \"learning management systems\",\n",
    "\n",
    "    # --- Engineering & Robotics ---\n",
    "    \"cad\", \"solidworks\", \"autocad\", \"revit\", \"circuit design\", \"embedded systems\", \"arduino\", \"raspberry pi\", \"mechatronics\", \"matlab simulation\",\n",
    "    \"finite element analysis\", \"thermodynamics\", \"mechanical design\", \"electrical wiring\", \"microcontroller programming\", \"pcb design\", \"3d printing\", \"robot kinematics\", \"sensor integration\", \"robot operating system\",\n",
    "\n",
    "    # --- Writing & Communication ---\n",
    "    \"technical writing\", \"content writing\", \"academic writing\", \"creative writing\", \"blogging\", \"proofreading\", \"editing\", \"copyediting\", \"storytelling\", \"presentation skills\",\n",
    "\n",
    "    # --- Soft Skills ---\n",
    "    \"communication\", \"leadership\", \"critical thinking\", \"problem solving\", \"creativity\", \"emotional intelligence\", \"time management\", \"adaptability\", \"teamwork\", \"negotiation\",\n",
    "    \"conflict resolution\", \"public speaking\", \"strategic thinking\", \"self-motivation\", \"collaboration\", \"work ethic\", \"resilience\", \"decision making\", \"attention to detail\", \"growth mindset\",\n",
    "\n",
    "    # --- Tools & Platforms ---\n",
    "    \"microsoft excel\", \"word\", \"powerpoint\", \"google docs\", \"google sheets\", \"slack\", \"notion\", \"trello\", \"jira\", \"asana\",\n",
    "    \"zoom\", \"microsoft teams\", \"obs studio\", \"vs code\", \"postman\", \"git\", \"github\", \"bitbucket\", \"intellij\", \"android studio\",\n",
    "\n",
    "    # --- Language Skills ---\n",
    "    \"english\", \"french\", \"spanish\", \"german\", \"mandarin\", \"hindi\", \"arabic\", \"japanese\", \"portuguese\", \"russian\",\n",
    "\n",
    "    # --- Personal Development & Productivity ---\n",
    "    \"speed reading\", \"note taking\", \"mind mapping\", \"goal setting\", \"journaling\", \"meditation\", \"stress management\", \"time blocking\", \"habit tracking\", \"self discipline\",\n",
    "\n",
    "    # --- Multimedia & Editing ---\n",
    "    \"video editing\", \"audio editing\", \"color grading\", \"motion graphics\", \"sound design\", \"vfx\", \"voiceover\", \"animation\", \"screen recording\", \"youtube optimization\",\n",
    "\n",
    "    # --- Miscellaneous Practical Skills ---\n",
    "    \"first aid\", \"cooking\", \"baking\", \"photography\", \"gardening\", \"car maintenance\", \"basic electronics\", \"fitness training\", \"yoga\", \"diet planning\"\n",
    "]\n",
    "\n",
    "extracted_skills = extract_skills(resume_text, skills_list)\n",
    "\n",
    "if extract_skills:\n",
    "    print(\"Extracted Skills:\")\n",
    "    for skill in extracted_skills:\n",
    "        print(f\"- {skill}\")\n",
    "else:\n",
    "    print(\"No skills found in the resume.\")\n"
   ]
  },
  {
   "cell_type": "markdown",
   "id": "5de90282",
   "metadata": {},
   "source": [
    "extracting educations"
   ]
  },
  {
   "cell_type": "code",
   "execution_count": 4,
   "id": "2ea35b00",
   "metadata": {},
   "outputs": [
    {
     "name": "stdout",
     "output_type": "stream",
     "text": [
      "Extracted Education:\n",
      "- Computer Science\n",
      "- Artificial Intelligence\n",
      "- Marketing\n",
      "- Data Ethics\n"
     ]
    }
   ],
   "source": [
    "import re\n",
    "\n",
    "def extract_education(resume_text):\n",
    "    education = []\n",
    "\n",
    "    education_keywords = [\n",
    "        # --- Only a few shown here for brevity ---\n",
    "        \"general medicine\", \"surgery\", \"pediatrics\", \"gynecology\", \"pharmacy\",\n",
    "        \"mechanical engineering\", \"civil engineering\", \"computer science\", \"artificial intelligence\",\n",
    "        \"law\", \"criminal law\", \"corporate law\", \"finance\", \"accounting\",\n",
    "        \"marketing\", \"psychology\", \"education\", \"physics\", \"mathematics\",\n",
    "        \"agriculture\", \"horticulture\", \"fine arts\", \"graphic design\", \"journalism\",\n",
    "        \"military science\", \"defense studies\", \"english literature\", \"creative writing\",\n",
    "        \"data ethics\", \"biostatistics\"\n",
    "        # (Add the rest of the 500 here)\n",
    "    ]\n",
    "\n",
    "    for keyword in education_keywords:\n",
    "        pattern = r'\\b' + re.escape(keyword) + r'\\b'\n",
    "        match = re.search(pattern, resume_text, re.IGNORECASE)\n",
    "        if match:\n",
    "            education.append(match.group(0))\n",
    "\n",
    "    return education\n",
    "\n",
    "# Sample input\n",
    "resume_text = \"\"\"\n",
    "    I hold a degree in Computer Science with specialization in Artificial Intelligence.\n",
    "    I have also completed a diploma in Marketing and worked on Data Ethics research.\n",
    "\"\"\"\n",
    "\n",
    "# Function call\n",
    "extracted_education = extract_education(resume_text)\n",
    "\n",
    "# Output\n",
    "if extracted_education:\n",
    "    print(\"Extracted Education:\")\n",
    "    for edu in extracted_education:\n",
    "        print(f\"- {edu}\")\n",
    "else:\n",
    "    print(\"No education information found in the resume.\")\n"
   ]
  },
  {
   "cell_type": "markdown",
   "id": "8f87b196",
   "metadata": {},
   "source": [
    "extracting name using spacy\n"
   ]
  },
  {
   "cell_type": "code",
   "execution_count": 5,
   "id": "3a9ce33f",
   "metadata": {},
   "outputs": [
    {
     "name": "stdout",
     "output_type": "stream",
     "text": [
      "No name found in the resume.\n"
     ]
    }
   ],
   "source": [
    "import re\n",
    "\n",
    "def extract_name(resume_text):\n",
    "    # Split and clean lines\n",
    "    lines = [line.strip() for line in resume_text.strip().split('\\n') if line.strip()]\n",
    "\n",
    "    # Rule 1: Explicit \"Name:\" label\n",
    "    for line in lines[:1]:\n",
    "        match = re.search(r'(?:Name|Full Name)\\s*[:\\-]?\\s*([A-Z][a-z]{1,15}(?:\\s[A-Z][a-z]{1,15}){1,2})', line)\n",
    "        if match:\n",
    "            return match.group(1)\n",
    "\n",
    "    # Rule 2: First non-heading, short, properly capitalized line\n",
    "    for line in lines[:1]:\n",
    "        if \"objective\" not in line.lower() and len(line.split()) <= 3:\n",
    "            words = line.split()\n",
    "            if all(w.istitle() and len(w) > 1 for w in words) and not any(w.lower() in ['career', 'objective', 'curriculum', 'vitae'] for w in words):\n",
    "                return line\n",
    "\n",
    "    # Rule 3: All-caps fallback (e.g., PIYUSH SHARMA)\n",
    "    for line in lines[:1]:\n",
    "        if re.match(r'^[A-Z]{2,}(?:\\s[A-Z]{2,}){1,2}$', line.strip()):\n",
    "            return line.strip().title()\n",
    "\n",
    "    return None\n",
    "\n",
    "\n",
    "name = extract_name(resume_text)\n",
    "if name:\n",
    "    print(f\"Name of the client is: {name}\")\n",
    "else:\n",
    "    print(\"No name found in the resume.\")"
   ]
  },
  {
   "cell_type": "code",
   "execution_count": null,
   "id": "a4dfd4c5",
   "metadata": {},
   "outputs": [],
   "source": []
  }
 ],
 "metadata": {
  "kernelspec": {
   "display_name": ".venv",
   "language": "python",
   "name": "python3"
  },
  "language_info": {
   "codemirror_mode": {
    "name": "ipython",
    "version": 3
   },
   "file_extension": ".py",
   "mimetype": "text/x-python",
   "name": "python",
   "nbconvert_exporter": "python",
   "pygments_lexer": "ipython3",
   "version": "3.13.1"
  }
 },
 "nbformat": 4,
 "nbformat_minor": 5
}
