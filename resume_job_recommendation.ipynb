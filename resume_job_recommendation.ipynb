{
 "cells": [
  {
   "cell_type": "code",
   "execution_count": 1,
   "id": "497a35eb",
   "metadata": {},
   "outputs": [],
   "source": [
    "import pandas as pd \n"
   ]
  },
  {
   "cell_type": "code",
   "execution_count": 2,
   "id": "da3b5182",
   "metadata": {},
   "outputs": [],
   "source": [
    "df = pd.read_csv('expanded_job_recommendation_dataset.csv')"
   ]
  },
  {
   "cell_type": "markdown",
   "id": "9b7e446a",
   "metadata": {},
   "source": [
    "tf - idf"
   ]
  },
  {
   "cell_type": "code",
   "execution_count": 3,
   "id": "713ea490",
   "metadata": {},
   "outputs": [
    {
     "name": "stdout",
     "output_type": "stream",
     "text": [
      "Accuracy: 99.94%\n"
     ]
    }
   ],
   "source": [
    "from sklearn.feature_extraction.text import TfidfVectorizer\n",
    "from sklearn.model_selection import train_test_split\n",
    "from sklearn.ensemble import RandomForestClassifier\n",
    "from sklearn.metrics import accuracy_score, classification_report, confusion_matrix\n",
    "\n",
    "x = df['features']\n",
    "y = df['role']\n",
    "\n",
    "#train test split\n",
    "x_train, x_test, y_train, y_test = train_test_split(x, y, test_size=0.2, random_state=42)\n",
    "\n",
    "#tf-idf vectorization\n",
    "tfidf_vectorizer = TfidfVectorizer()\n",
    "x_train_tfidf = tfidf_vectorizer.fit_transform(x_train)\n",
    "x_test_tfidf = tfidf_vectorizer.transform(x_test)\n",
    "#random forest classifier\n",
    "rf_classifier = RandomForestClassifier(n_estimators=100, random_state=42)\n",
    "rf_classifier.fit(x_train_tfidf, y_train)\n",
    "#predictions\n",
    "y_pred = rf_classifier.predict(x_test_tfidf)\n",
    "#accuracy\n",
    "accuracy = accuracy_score(y_test, y_pred)\n",
    "print(f\"Accuracy: {accuracy * 100:.2f}%\")"
   ]
  },
  {
   "cell_type": "code",
   "execution_count": 4,
   "id": "0ad489d5",
   "metadata": {},
   "outputs": [],
   "source": [
    "#recommendation function\n",
    "import re \n",
    "def clean_text(text):\n",
    "    text = re.sub(r'\\d+', '', text)  # Remove digits\n",
    "\n",
    "    text = re.sub(r'\\@\\w+|\\#', '', text)  # Remove mentions and hashtags\n",
    "    text = re.sub(r'\\b\\w{1,2}\\b', '', text)  # Remove short words\n",
    "    text = re.sub(r'\\s+', ' ', text)  # Remove extra spaces\n",
    "    text = re.sub(r'[^\\w\\s]', '', text)  # Remove punctuation\n",
    "    text = re.sub(r'\\s+', ' ', text)  # Remove extra spaces\n",
    "    return text.strip()\n",
    "\n",
    "def predicted_job_category(resume_file):\n",
    "    resume_file = clean_text(resume_file)\n",
    "    resume_tfidf = tfidf_vectorizer.transform([resume_file])\n",
    "    predicted_job_category = rf_classifier.predict(resume_tfidf)[0]\n",
    "    return predicted_job_category\n"
   ]
  },
  {
   "cell_type": "code",
   "execution_count": 5,
   "id": "03b5dc25",
   "metadata": {},
   "outputs": [
    {
     "name": "stdout",
     "output_type": "stream",
     "text": [
      "The predicted category for the resume is: Software Engineer\n"
     ]
    }
   ],
   "source": [
    "resume = \"i have skills like python \"\n",
    "predicted_category = predicted_job_category(resume)\n",
    "print(f\"The predicted category for the resume is: {predicted_category}\")"
   ]
  },
  {
   "cell_type": "code",
   "execution_count": 6,
   "id": "18af1ce0",
   "metadata": {},
   "outputs": [],
   "source": [
    "#saving the model and vectorizer\n",
    "import pickle\n",
    "pickle.dump(tfidf_vectorizer, open('tfidf_vectorizer1.pkl', 'wb'))   \n",
    "pickle.dump(rf_classifier, open('rf_classifier1.pkl', 'wb'))"
   ]
  },
  {
   "cell_type": "code",
   "execution_count": null,
   "id": "8e8458f7",
   "metadata": {},
   "outputs": [],
   "source": []
  }
 ],
 "metadata": {
  "kernelspec": {
   "display_name": ".venv",
   "language": "python",
   "name": "python3"
  },
  "language_info": {
   "codemirror_mode": {
    "name": "ipython",
    "version": 3
   },
   "file_extension": ".py",
   "mimetype": "text/x-python",
   "name": "python",
   "nbconvert_exporter": "python",
   "pygments_lexer": "ipython3",
   "version": "3.13.1"
  }
 },
 "nbformat": 4,
 "nbformat_minor": 5
}
